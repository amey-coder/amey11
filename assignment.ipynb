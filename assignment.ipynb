{
 "cells": [
  {
   "cell_type": "markdown",
   "id": "3504dc77-af88-4a6e-a172-6570c7290b36",
   "metadata": {},
   "source": [
    "# 1 *1)find the length of given string(given by user)without using len()function"
   ]
  },
  {
   "cell_type": "code",
   "execution_count": 7,
   "id": "7c913e33-cc37-43cd-ab08-5c22a9105acf",
   "metadata": {},
   "outputs": [
    {
     "name": "stdin",
     "output_type": "stream",
     "text": [
      "enter the string hello world\n"
     ]
    },
    {
     "name": "stdout",
     "output_type": "stream",
     "text": [
      "length of the string is: 11\n"
     ]
    }
   ],
   "source": [
    "a=str(input(\"enter the string\"))\n",
    "\n",
    "count=0\n",
    "for i in a:\n",
    "    count += 1\n",
    "print(\"length of the string is:\",count)\n",
    " "
   ]
  },
  {
   "cell_type": "markdown",
   "id": "c77afa54-d968-4871-9bb6-3a6b3a7cce8b",
   "metadata": {},
   "source": [
    "# 2 )extract user id from given mail i'd. eg:if the mail is sanskrutipandav@gmail.com then user name should be\"sanskrutipandav\"**"
   ]
  },
  {
   "cell_type": "code",
   "execution_count": 11,
   "id": "efcf1963-5536-44aa-b869-492eded43620",
   "metadata": {},
   "outputs": [
    {
     "name": "stdin",
     "output_type": "stream",
     "text": [
      "enter the email id ameylakde@gmail.com\n"
     ]
    },
    {
     "name": "stdout",
     "output_type": "stream",
     "text": [
      "ameylakde@gmail.com\n",
      "ameylakde\n"
     ]
    }
   ],
   "source": [
    "str=input(\"enter the email id\")\n",
    "print(str)\n",
    "poss=str.index(\"@\")\n",
    "print(str[0:poss])\n"
   ]
  },
  {
   "cell_type": "markdown",
   "id": "5636bb75-3298-451b-8fb5-80132bdd22a8",
   "metadata": {},
   "source": [
    "# 3 )count the frequency of perticular character in provide string.eg:\"hello how are you\" is the string,the frequency of \"h\" in this string is 2 without using count function*"
   ]
  },
  {
   "cell_type": "code",
   "execution_count": 14,
   "id": "26ce6e4d-aeca-403b-9cf4-4216fc433bd0",
   "metadata": {
    "scrolled": true
   },
   "outputs": [
    {
     "name": "stdin",
     "output_type": "stream",
     "text": [
      "enter a string hello how are you\n",
      "what would you like to seach h\n"
     ]
    },
    {
     "name": "stdout",
     "output_type": "stream",
     "text": [
      "frequece of char is  2\n"
     ]
    }
   ],
   "source": [
    "str=input(\"enter a string\")\n",
    "count=input(\"what would you like to seach\")\n",
    "freq=0\n",
    "for i in str:\n",
    "    if i==count:\n",
    "        freq +=1\n",
    "print(\"frequece of char is \",freq)\n"
   ]
  },
  {
   "cell_type": "markdown",
   "id": "48e222f0-7d54-4449-bc48-f823d57f4ca5",
   "metadata": {},
   "source": [
    "#  4)write a program which can remove a particaluar character from string**"
   ]
  },
  {
   "cell_type": "code",
   "execution_count": 15,
   "id": "a3ffcd04-a4af-4e4a-a71e-4b28b189cacf",
   "metadata": {},
   "outputs": [
    {
     "name": "stdin",
     "output_type": "stream",
     "text": [
      "enter a string hello hello\n",
      "what like to you to remove h\n"
     ]
    },
    {
     "name": "stdout",
     "output_type": "stream",
     "text": [
      "ello ello\n"
     ]
    }
   ],
   "source": [
    "str=input(\"enter a string\") \n",
    "count=input(\"what like to you to remove\")\n",
    "result=\"\"\n",
    "for i in str :\n",
    "    if i != count:\n",
    "        result=result+i\n",
    "print(result)"
   ]
  },
  {
   "cell_type": "markdown",
   "id": "63ecd518-0a77-4d5c-80b9-47ff2a99e811",
   "metadata": {},
   "source": [
    "#  5)write a program that can check whether a given string is palindrome or not**\n",
    "**(abba,malyalam)*"
   ]
  },
  {
   "cell_type": "code",
   "execution_count": 16,
   "id": "090b1c32-edfb-44e0-893e-a28cce82dfe4",
   "metadata": {},
   "outputs": [
    {
     "name": "stdin",
     "output_type": "stream",
     "text": [
      "enter palindrom string adda\n"
     ]
    },
    {
     "name": "stdout",
     "output_type": "stream",
     "text": [
      "yes\n"
     ]
    }
   ],
   "source": [
    "str=input(\"enter palindrom string\")\n",
    "r=''.join(reversed(str))\n",
    "if (r==str):\n",
    "    print(\"yes\")\n",
    "else:\n",
    "    print(\"no\")\n"
   ]
  },
  {
   "cell_type": "markdown",
   "id": "999cc718-ddf7-4b25-8f1b-23811a05f7bd",
   "metadata": {},
   "source": [
    "# 6) write a program to count the number of words in a string without using a split()**\n"
   ]
  },
  {
   "cell_type": "code",
   "execution_count": 17,
   "id": "d6fae66c-0c3c-4628-a1f6-fd5c9e0a67b3",
   "metadata": {},
   "outputs": [
    {
     "name": "stdin",
     "output_type": "stream",
     "text": [
      "enter a string all of    these\n"
     ]
    },
    {
     "name": "stdout",
     "output_type": "stream",
     "text": [
      "6\n"
     ]
    }
   ],
   "source": [
    "str=input(\"enter a string\")\n",
    "char=1\n",
    "for i in str:\n",
    "    if i.isspace():\n",
    "        char=char+1\n",
    "print(char)"
   ]
  },
  {
   "cell_type": "markdown",
   "id": "90507f57-5751-4caa-9dd6-7093d5cd4536",
   "metadata": {},
   "source": [
    "# 7 )write a python program to convert a string to title case without using the title()"
   ]
  },
  {
   "cell_type": "code",
   "execution_count": 1,
   "id": "40129f36-a3c7-4755-80ed-f9be5dc7eb53",
   "metadata": {
    "scrolled": true
   },
   "outputs": [
    {
     "name": "stdin",
     "output_type": "stream",
     "text": [
      "aMey LaKde h\n"
     ]
    },
    {
     "name": "stdout",
     "output_type": "stream",
     "text": [
      "['h']\n"
     ]
    }
   ],
   "source": [
    "str=input(\"aMey LaKde\")\n",
    "y=str.split()\n",
    "print(y)"
   ]
  },
  {
   "cell_type": "code",
   "execution_count": null,
   "id": "224f6c28-08eb-4ff6-bd8d-7fd1ffbfa7a2",
   "metadata": {},
   "outputs": [],
   "source": []
  },
  {
   "cell_type": "code",
   "execution_count": null,
   "id": "0bade33d-a0b7-4336-b1af-b74ea597b0a7",
   "metadata": {},
   "outputs": [],
   "source": []
  }
 ],
 "metadata": {
  "kernelspec": {
   "display_name": "Python 3 (ipykernel)",
   "language": "python",
   "name": "python3"
  },
  "language_info": {
   "codemirror_mode": {
    "name": "ipython",
    "version": 3
   },
   "file_extension": ".py",
   "mimetype": "text/x-python",
   "name": "python",
   "nbconvert_exporter": "python",
   "pygments_lexer": "ipython3",
   "version": "3.11.7"
  }
 },
 "nbformat": 4,
 "nbformat_minor": 5
}
