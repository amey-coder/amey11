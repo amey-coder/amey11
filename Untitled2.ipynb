{
 "cells": [
  {
   "cell_type": "code",
   "execution_count": 1,
   "id": "8795f70f-b0f2-4046-8644-8abab0501d5e",
   "metadata": {},
   "outputs": [
    {
     "name": "stdin",
     "output_type": "stream",
     "text": [
      "enter your string strong man\n"
     ]
    },
    {
     "name": "stdout",
     "output_type": "stream",
     "text": [
      "length of string is  1\n",
      "length of string is  2\n",
      "length of string is  3\n",
      "length of string is  4\n",
      "length of string is  5\n",
      "length of string is  6\n",
      "length of string is  7\n",
      "length of string is  8\n",
      "length of string is  9\n",
      "length of string is  10\n"
     ]
    }
   ],
   "source": [
    "# find the length of given string (given by user)\n",
    "#without using len() funtion\n",
    "str1 = input(\"enter your string\")\n",
    "\n",
    "count = 0\n",
    "for i in str1:\n",
    "    count += 1\n",
    "    print(\"length of string is \",count)"
   ]
  },
  {
   "cell_type": "markdown",
   "id": "d056c271-b978-405c-b0cd-55236a8d2249",
   "metadata": {},
   "source": [
    "# extract userid fro given mail i,d\n",
    "# eg if the mail is chetan24jagtap@gamil.com\n",
    "# them user name should be \"chetan24jagtap\""
   ]
  },
  {
   "cell_type": "code",
   "execution_count": 1,
   "id": "1da3e8c5-61e2-4b3a-8c89-7e572e12aa6a",
   "metadata": {},
   "outputs": [
    {
     "name": "stdin",
     "output_type": "stream",
     "text": [
      "enter your mail_id chetan24jagtap@gamil.com\n"
     ]
    },
    {
     "name": "stdout",
     "output_type": "stream",
     "text": [
      "chetan24jagtap\n"
     ]
    }
   ],
   "source": [
    "mail_id= input(\"enter your mail_id\")\n",
    "poss = mail_id.index(\"@\")\n",
    "print(mail_id[0:poss])\n"
   ]
  },
  {
   "cell_type": "code",
   "execution_count": 5,
   "id": "fe84dd32-f97d-4fd4-8051-561c1d689d8f",
   "metadata": {},
   "outputs": [
    {
     "name": "stdin",
     "output_type": "stream",
     "text": [
      "enter a string hello how are you\n",
      "enter a substring e\n"
     ]
    },
    {
     "name": "stdout",
     "output_type": "stream",
     "text": [
      "frequency of your char is  1\n",
      "frequency of your char is  2\n"
     ]
    }
   ],
   "source": [
    "# count the frequency of particular charater in provided string\n",
    "# eg \"hello how are you\" is the string,\n",
    "# the frequency of \"h\" in this string is 2\n",
    "# without using count function\n",
    "str = input(\"enter a string\")\n",
    "sub = input(\"enter a substring\")\n",
    "sum = 0\n",
    "for i in str:\n",
    "    if i == sub:\n",
    "        sum+=1\n",
    "        print (\"frequency of your char is \",sum)"
   ]
  },
  {
   "cell_type": "code",
   "execution_count": 10,
   "id": "846fca27-1073-4f0b-a4ef-41dfeafb4f3c",
   "metadata": {},
   "outputs": [
    {
     "name": "stdin",
     "output_type": "stream",
     "text": [
      "enter a string how are you\n",
      "what you want to remove  a\n"
     ]
    },
    {
     "name": "stdout",
     "output_type": "stream",
     "text": [
      "how ar you\n"
     ]
    }
   ],
   "source": [
    "str = input(\"enter a string\")\n",
    "term = input(\"what you want to remove \")\n",
    "result =\"\"\n",
    "\n",
    "for i in str:\n",
    " if i != sub:\n",
    "  result = result + i\n",
    "print(result)\n",
    "\n",
    "\n",
    " \n",
    "    "
   ]
  },
  {
   "cell_type": "code",
   "execution_count": null,
   "id": "8604962e-15bd-47a6-bfff-bd91f28dc509",
   "metadata": {},
   "outputs": [],
   "source": []
  }
 ],
 "metadata": {
  "kernelspec": {
   "display_name": "Python 3 (ipykernel)",
   "language": "python",
   "name": "python3"
  },
  "language_info": {
   "codemirror_mode": {
    "name": "ipython",
    "version": 3
   },
   "file_extension": ".py",
   "mimetype": "text/x-python",
   "name": "python",
   "nbconvert_exporter": "python",
   "pygments_lexer": "ipython3",
   "version": "3.11.7"
  }
 },
 "nbformat": 4,
 "nbformat_minor": 5
}
