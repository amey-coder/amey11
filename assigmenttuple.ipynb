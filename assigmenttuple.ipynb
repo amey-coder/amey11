{
 "cells": [
  {
   "cell_type": "code",
   "execution_count": 12,
   "id": "2747d7ae-17b5-4cd4-9020-06436c125985",
   "metadata": {},
   "outputs": [
    {
     "name": "stdout",
     "output_type": "stream",
     "text": [
      "the original list is:[(5, 6), (5, 7), (5, 8), (6, 10), (7, 13)]\n",
      "the extracted element:[[5, 6, 7, 8], [5, 6, 7, 8], [5, 6, 7, 8], [6, 10], [7, 13]]\n"
     ]
    }
   ],
   "source": [
    "\n",
    "#While working with Python tuples, we can have a problem in which we need to perform concatenation of records from the similarity of initial element. This problem can have applications in data domains such as Data Science\n",
    "#Input  : test_list = [(5, 6), (5, 7), (5, 8), (6, 10), (7, 13)] \n",
    "#Output : [(5, 6, 7, 8), (6, 10), (7, 13)]  \n",
    "\n",
    "\n",
    "test_list=[(5, 6),(5, 7),(5, 8),(6, 10),(7, 13)] \n",
    "print(\"the original list is:\"+str(test_list))\n",
    "res=[]\n",
    "x=[]\n",
    "for i in test_list:\n",
    "    if i [0] not in x:\n",
    "        x.append(i[0])\n",
    "for i in x:\n",
    "    p=[]\n",
    "    p.append(i)\n",
    "    for j in test_list:\n",
    "        if i == j[0]:\n",
    "           p.append(j[1])\n",
    "           res.append(p)\n",
    "print(\"the extracted element:\"+str(res))\n"
   ]
  },
  {
   "cell_type": "markdown",
   "id": "17b8cd03-fa15-4215-b0bd-85c406fd9c96",
   "metadata": {},
   "source": [
    "2)multiply adjacent elements (both side) and take sum of right and left side multiplication result"
   ]
  },
  {
   "cell_type": "code",
   "execution_count": 14,
   "id": "be557068-3214-4ddf-8c9e-9d39488df1ce",
   "metadata": {},
   "outputs": [
    {
     "name": "stdout",
     "output_type": "stream",
     "text": [
      "original tuple:(1, 5, 7, 8, 10)\n",
      "resultant tuple after  multiplication:(5, 35, 56, 80)\n"
     ]
    }
   ],
   "source": [
    "test_tup=(1,5,7,8,10)\n",
    "print(\"original tuple:\"+str(test_tup))\n",
    "res=tuple(i*j for i,j in zip(test_tup,test_tup[1:]))\n",
    "print(\"resultant tuple after  multiplication:\"+str(res))"
   ]
  },
  {
   "cell_type": "markdown",
   "id": "5d0c543c-eccb-497a-8537-a2a77d088bc7",
   "metadata": {},
   "source": [
    "3) check is tuples are same or not"
   ]
  },
  {
   "cell_type": "code",
   "execution_count": 16,
   "id": "9cd4dbf5-fc98-4ce0-ab2d-c5577fc6ba8f",
   "metadata": {},
   "outputs": [
    {
     "name": "stdout",
     "output_type": "stream",
     "text": [
      "the two tuples not same\n"
     ]
    }
   ],
   "source": [
    "t1={1,2,3,0}\n",
    "t2={6,7,8,9}\n",
    "\n",
    "if t1 == t2:\n",
    "    print(\"the two tuples are same\")\n",
    "else:\n",
    "    print(\"the two tuples not same\")"
   ]
  },
  {
   "cell_type": "markdown",
   "id": "7a167353-8065-4b11-8b5c-0c2f132f3fc5",
   "metadata": {},
   "source": [
    "4 count no of tuples,list and set from a list"
   ]
  },
  {
   "cell_type": "code",
   "execution_count": 17,
   "id": "fcb5d47f-7fde-4f9f-bdfb-557398c7a757",
   "metadata": {},
   "outputs": [
    {
     "name": "stdout",
     "output_type": "stream",
     "text": [
      "5\n",
      "5\n",
      "4\n"
     ]
    }
   ],
   "source": [
    "list=[1,2,3,4,5]\n",
    "set=[23,3,44,34,44]\n",
    "tuple=[23,43,454,676]\n",
    "\n",
    "print(len(list))\n",
    "print(len(set))\n",
    "print(len(tuple))"
   ]
  },
  {
   "cell_type": "code",
   "execution_count": null,
   "id": "a4ca1a22-02b8-43e0-9e28-7f6529f4e520",
   "metadata": {},
   "outputs": [],
   "source": [
    "student1={\n",
    "   \"name\": \"manohar\",\n",
    "   \"education\": \"B.tech\",\n",
    "   \"skill\": \"python\",\n",
    "   \"year of graduation\":\"2022\",\n",
    "}\n",
    "student2={\n",
    "   \"name\": \"ponian\",\n",
    "   \"education\": \"B.Sc\",\n",
    "   \"skill\":\"C++\",\n",
    "   \"year of education\": \"2020\",\n",
    "}\n",
    "print(student1)\n",
    "print(student2)"
   ]
  }
 ],
 "metadata": {
  "kernelspec": {
   "display_name": "Python 3 (ipykernel)",
   "language": "python",
   "name": "python3"
  },
  "language_info": {
   "codemirror_mode": {
    "name": "ipython",
    "version": 3
   },
   "file_extension": ".py",
   "mimetype": "text/x-python",
   "name": "python",
   "nbconvert_exporter": "python",
   "pygments_lexer": "ipython3",
   "version": "3.11.7"
  }
 },
 "nbformat": 4,
 "nbformat_minor": 5
}
